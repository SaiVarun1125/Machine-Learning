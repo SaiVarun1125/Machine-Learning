{
 "cells": [
  {
   "cell_type": "code",
   "execution_count": 4,
   "id": "7d78acb7",
   "metadata": {},
   "outputs": [
    {
     "name": "stdout",
     "output_type": "stream",
     "text": [
      "\n",
      "*\n",
      "**\n",
      "***\n",
      "****\n",
      "*****\n",
      "****\n",
      "***\n",
      "**\n",
      "*\n"
     ]
    }
   ],
   "source": [
    "#Creating the fist half of the triangle\n",
    "for i in range(5):\n",
    "    for j in range(i):\n",
    "        print(\"*\", end=\"\")\n",
    "    print(\"\")\n",
    "#Creating the Second half of the triangle\n",
    "    for i in range(5,0,-1):\n",
    "    for j in range(i):\n",
    "        print(\"*\",end=\"\")\n",
    "    print(\"\")"
   ]
  },
  {
   "cell_type": "code",
   "execution_count": 1,
   "id": "7797a1c3",
   "metadata": {},
   "outputs": [
    {
     "name": "stdout",
     "output_type": "stream",
     "text": [
      "20  40  60  80  100  "
     ]
    }
   ],
   "source": [
    "my_list=[10,20,30,40,50,60,70,80,90,100]\n",
    "#Iterating through the list and printing the output.\n",
    "for i in my_list[1::2]:\n",
    "    print(i,\" \",end=\"\")"
   ]
  },
  {
   "cell_type": "code",
   "execution_count": 23,
   "id": "997e6134",
   "metadata": {},
   "outputs": [
    {
     "name": "stdout",
     "output_type": "stream",
     "text": [
      "[23, 'Python', 23.98]\n",
      "[<class 'int'>, <class 'str'>, <class 'float'>]\n"
     ]
    }
   ],
   "source": [
    "x=[23,'Python',23.98]\n",
    "#Declaring a list called op to store the datatypes of the list x.\n",
    "op=[]\n",
    "for i in x:\n",
    "    op.append(type(i))\n",
    "print(x)\n",
    "print(op)\n"
   ]
  },
  {
   "cell_type": "code",
   "execution_count": 54,
   "id": "e00e2263",
   "metadata": {},
   "outputs": [
    {
     "name": "stdout",
     "output_type": "stream",
     "text": [
      "{1, 2, 3, 4, 5}\n"
     ]
    }
   ],
   "source": [
    "def unique(Sample_list):\n",
    "    #Converting the list to set inorder to get the unique values.\n",
    "    unique_list=set(Sample_list)\n",
    "    print(unique_list)\n",
    "li=[1,2,3,3,3,3,4,5]\n",
    "unique(li)       "
   ]
  },
  {
   "cell_type": "code",
   "execution_count": 55,
   "id": "cb5065f1",
   "metadata": {},
   "outputs": [
    {
     "name": "stdout",
     "output_type": "stream",
     "text": [
      "No of Upper-case: 3\n",
      "No of lower-case: 12\n"
     ]
    }
   ],
   "source": [
    "def upp(s):\n",
    "    #Creating two variables to store the number of uppercase and lowercase letters\n",
    "    uppercase=0\n",
    "    lowercase=0\n",
    "    for i in s:\n",
    "        #Adding for the uppercase letters\n",
    "        if i.isupper():\n",
    "            uppercase+=1\n",
    "        #Adding for the uppercase letters\n",
    "        if i.islower():\n",
    "            lowercase+=1\n",
    "    print(\"No of Upper-case:\",uppercase)\n",
    "    print(\"No of lower-case:\",lowercase)\n",
    "abc='The quick Brow Fox'\n",
    "upp(abc)"
   ]
  },
  {
   "cell_type": "code",
   "execution_count": null,
   "id": "b4cdd950",
   "metadata": {},
   "outputs": [],
   "source": []
  }
 ],
 "metadata": {
  "kernelspec": {
   "display_name": "Python 3 (ipykernel)",
   "language": "python",
   "name": "python3"
  },
  "language_info": {
   "codemirror_mode": {
    "name": "ipython",
    "version": 3
   },
   "file_extension": ".py",
   "mimetype": "text/x-python",
   "name": "python",
   "nbconvert_exporter": "python",
   "pygments_lexer": "ipython3",
   "version": "3.9.7"
  }
 },
 "nbformat": 4,
 "nbformat_minor": 5
}
