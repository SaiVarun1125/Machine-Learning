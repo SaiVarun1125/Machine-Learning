{
 "cells": [
  {
   "cell_type": "code",
   "execution_count": 33,
   "id": "557f99f6",
   "metadata": {},
   "outputs": [
    {
     "name": "stdout",
     "output_type": "stream",
     "text": [
      "[ 3 18 15  9 18  6 16 12  3 15 13 11 15 14 18]\n"
     ]
    }
   ],
   "source": [
    "import numpy as np\n",
    "a = np.random.randint(1,20,size = 15)\n",
    "#used randint to select the random values in the range of 20.\n",
    "print (a)"
   ]
  },
  {
   "cell_type": "code",
   "execution_count": 34,
   "id": "f7b521b6",
   "metadata": {},
   "outputs": [
    {
     "data": {
      "text/plain": [
       "array([[ 3, 18, 15,  9, 18],\n",
       "       [ 6, 16, 12,  3, 15],\n",
       "       [13, 11, 15, 14, 18]])"
      ]
     },
     "execution_count": 34,
     "metadata": {},
     "output_type": "execute_result"
    }
   ],
   "source": [
    "#1 Reshaping the array to 3 by 5\n",
    "b=a.reshape(3,5)\n",
    "b"
   ]
  },
  {
   "cell_type": "code",
   "execution_count": 35,
   "id": "5e9b3c5f",
   "metadata": {},
   "outputs": [
    {
     "name": "stdout",
     "output_type": "stream",
     "text": [
      "array shape: (3, 5)\n"
     ]
    }
   ],
   "source": [
    "#Printing the array shape\n",
    "print(\"array shape:\",b.shape)"
   ]
  },
  {
   "cell_type": "code",
   "execution_count": 36,
   "id": "b5ff1ec0",
   "metadata": {},
   "outputs": [
    {
     "name": "stdout",
     "output_type": "stream",
     "text": [
      "[[ 3  0 15  9 18]\n",
      " [ 6  0 12  3 15]\n",
      " [13 11 15 14  0]]\n"
     ]
    }
   ],
   "source": [
    "arr = b\n",
    "# loop through each row of the array\n",
    "for i in range(arr.shape[0]):\n",
    "    # find the maximum value in the row\n",
    "    max_val = np.argmax(arr[i])\n",
    "    \n",
    "    # replacing the maximum value with 0\n",
    "    arr[i][max_val] = 0\n",
    "\n",
    "print(arr)"
   ]
  },
  {
   "cell_type": "code",
   "execution_count": 39,
   "id": "03bf33b2",
   "metadata": {},
   "outputs": [
    {
     "data": {
      "text/plain": [
       "array([[ 0,  1,  2],\n",
       "       [ 3,  4,  5],\n",
       "       [ 6,  7,  8],\n",
       "       [ 9, 10, 11]])"
      ]
     },
     "execution_count": 39,
     "metadata": {},
     "output_type": "execute_result"
    }
   ],
   "source": [
    "#Creating 2 dimentional array 4 X 3\n",
    "ary= np.array([ (0,1,2),(3,4,5),(6,7,8),(9,10,11) ])\n",
    "#Shaping the array to  4X3\n",
    "ary.reshape(4,3)\n",
    "ary"
   ]
  },
  {
   "cell_type": "code",
   "execution_count": 45,
   "id": "1064ee6c",
   "metadata": {},
   "outputs": [
    {
     "data": {
      "text/plain": [
       "numpy.ndarray"
      ]
     },
     "execution_count": 45,
     "metadata": {},
     "output_type": "execute_result"
    }
   ],
   "source": [
    "#Printing the type\n",
    "type(ary)"
   ]
  },
  {
   "cell_type": "code",
   "execution_count": 43,
   "id": "8694a6ac",
   "metadata": {},
   "outputs": [
    {
     "data": {
      "text/plain": [
       "dtype('int32')"
      ]
     },
     "execution_count": 43,
     "metadata": {},
     "output_type": "execute_result"
    }
   ],
   "source": [
    "#Printing the data type\n",
    "ary.dtype"
   ]
  },
  {
   "cell_type": "code",
   "execution_count": 47,
   "id": "562d3a0d",
   "metadata": {},
   "outputs": [
    {
     "name": "stdout",
     "output_type": "stream",
     "text": [
      "Eigenvalues: [2. 1.]\n",
      "Eigenvectors: [[0.89442719 0.70710678]\n",
      " [0.4472136  0.70710678]]\n"
     ]
    }
   ],
   "source": [
    "c=np.array([(3,-2),(1,0)])\n",
    "eval, evec = np.linalg.eig(c)\n",
    "\n",
    "# print the eigenvalues and right eigenvectors\n",
    "print(\"Eigenvalues:\", eval)\n",
    "print(\"Eigenvectors:\", evec)"
   ]
  },
  {
   "cell_type": "code",
   "execution_count": 53,
   "id": "90526f58",
   "metadata": {},
   "outputs": [
    {
     "data": {
      "text/plain": [
       "4"
      ]
     },
     "execution_count": 53,
     "metadata": {},
     "output_type": "execute_result"
    }
   ],
   "source": [
    "z=np.array([(0,1,2),(3,4,5)])\n",
    "#sum of diagonal elements\n",
    "sum=np.trace(z)\n",
    "sum"
   ]
  },
  {
   "cell_type": "code",
   "execution_count": 50,
   "id": "69038ea7",
   "metadata": {},
   "outputs": [
    {
     "data": {
      "text/plain": [
       "array([[1, 2],\n",
       "       [3, 4],\n",
       "       [5, 6]])"
      ]
     },
     "execution_count": 50,
     "metadata": {},
     "output_type": "execute_result"
    }
   ],
   "source": [
    "d=np.array([(1,2),(3,4),(5 ,6)])\n",
    "#Reshaping the array to 3X2\n",
    "d.reshape(3,2)"
   ]
  },
  {
   "cell_type": "code",
   "execution_count": 51,
   "id": "ffdc3cbe",
   "metadata": {},
   "outputs": [
    {
     "data": {
      "text/plain": [
       "array([[1, 2, 3],\n",
       "       [4, 5, 6]])"
      ]
     },
     "execution_count": 51,
     "metadata": {},
     "output_type": "execute_result"
    }
   ],
   "source": [
    "#reshaping the array to 2X3\n",
    "d.reshape(2,3)"
   ]
  },
  {
   "cell_type": "code",
   "execution_count": 61,
   "id": "a4ca0c9c",
   "metadata": {},
   "outputs": [],
   "source": [
    "import matplotlib as plt"
   ]
  },
  {
   "cell_type": "code",
   "execution_count": 2,
   "id": "c802f6b5",
   "metadata": {},
   "outputs": [
    {
     "data": {
      "image/png": "[encoded data removed]",
      "text/plain": [
       "<Figure size 640x480 with 1 Axes>"
      ]
     },
     "metadata": {},
     "output_type": "display_data"
    }
   ],
   "source": [
    "import matplotlib.pyplot as plt\n",
    "languages = 'Java', 'Python', 'PHP', 'JavaScript', 'C#', 'C++'\n",
    "popuratity = [22.2, 17.6, 8.8, 8, 7.7, 6.7]\n",
    "colors = [\"blue\", \"orange\", \"green\", \"red\", \"pink\", \"brown\"]\n",
    "# explode 1st slice\n",
    "explode = (0.1, 0, 0, 0, 0, 0)  \n",
    "# Plot\n",
    "plt.pie(popuratity, explode=explode, labels=languages, colors=colors,\n",
    "autopct='%1.1f%%', shadow='true', startangle=135)\n",
    "\n",
    "plt.axis('equal')\n",
    "plt.show()"
   ]
  },
  {
   "cell_type": "code",
   "execution_count": null,
   "id": "6cca1b4e",
   "metadata": {},
   "outputs": [],
   "source": []
  }
 ],
 "metadata": {
  "kernelspec": {
   "display_name": "Python 3 (ipykernel)",
   "language": "python",
   "name": "python3"
  },
  "language_info": {
   "codemirror_mode": {
    "name": "ipython",
    "version": 3
   },
   "file_extension": ".py",
   "mimetype": "text/x-python",
   "name": "python",
   "nbconvert_exporter": "python",
   "pygments_lexer": "ipython3",
   "version": "3.9.13"
  }
 },
 "nbformat": 4,
 "nbformat_minor": 5
}
