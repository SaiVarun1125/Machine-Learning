{
 "cells": [
  {
   "cell_type": "markdown",
   "id": "4292386c",
   "metadata": {},
   "source": [
    "#Question 1"
   ]
  },
  {
   "cell_type": "code",
   "execution_count": 89,
   "id": "09d9ea4e",
   "metadata": {},
   "outputs": [],
   "source": [
    "ages = [19, 22, 19, 24, 20, 25, 26, 24, 25, 24]\n"
   ]
  },
  {
   "cell_type": "code",
   "execution_count": 90,
   "id": "4dbb2d7e",
   "metadata": {},
   "outputs": [
    {
     "data": {
      "text/plain": [
       "[19, 19, 20, 22, 24, 24, 24, 25, 25, 26]"
      ]
     },
     "execution_count": 90,
     "metadata": {},
     "output_type": "execute_result"
    }
   ],
   "source": [
    "#Sorting the list\n",
    "ages.sort()\n",
    "ages"
   ]
  },
  {
   "cell_type": "code",
   "execution_count": 91,
   "id": "4cc0168d",
   "metadata": {},
   "outputs": [
    {
     "data": {
      "text/plain": [
       "19"
      ]
     },
     "execution_count": 91,
     "metadata": {},
     "output_type": "execute_result"
    }
   ],
   "source": [
    "#Finding the min age\n",
    "min_ages=min(ages)\n",
    "min_ages"
   ]
  },
  {
   "cell_type": "code",
   "execution_count": 92,
   "id": "1065874c",
   "metadata": {},
   "outputs": [
    {
     "data": {
      "text/plain": [
       "26"
      ]
     },
     "execution_count": 92,
     "metadata": {},
     "output_type": "execute_result"
    }
   ],
   "source": [
    "#Finding the max age\n",
    "max_ages=max(ages)\n",
    "max_ages"
   ]
  },
  {
   "cell_type": "code",
   "execution_count": 93,
   "id": "a0bbb1a1",
   "metadata": {},
   "outputs": [],
   "source": [
    "#Adding the min age to the ages list\n",
    "ages.append(min_ages)"
   ]
  },
  {
   "cell_type": "code",
   "execution_count": 94,
   "id": "a8f631c9",
   "metadata": {},
   "outputs": [
    {
     "data": {
      "text/plain": [
       "[19, 19, 20, 22, 24, 24, 24, 25, 25, 26, 19]"
      ]
     },
     "execution_count": 94,
     "metadata": {},
     "output_type": "execute_result"
    }
   ],
   "source": [
    "ages"
   ]
  },
  {
   "cell_type": "code",
   "execution_count": 95,
   "id": "d1f3c9f6",
   "metadata": {},
   "outputs": [],
   "source": [
    "#Adding the max age to the ages list\n",
    "ages.append(max_ages)"
   ]
  },
  {
   "cell_type": "code",
   "execution_count": 96,
   "id": "956fbffe",
   "metadata": {},
   "outputs": [
    {
     "data": {
      "text/plain": [
       "[19, 19, 20, 22, 24, 24, 24, 25, 25, 26, 19, 26]"
      ]
     },
     "execution_count": 96,
     "metadata": {},
     "output_type": "execute_result"
    }
   ],
   "source": [
    "#Finding the median ages of the list\n",
    "ages"
   ]
  },
  {
   "cell_type": "code",
   "execution_count": 97,
   "id": "e4dad7b1",
   "metadata": {},
   "outputs": [],
   "source": [
    "ages.sort()"
   ]
  },
  {
   "cell_type": "code",
   "execution_count": 98,
   "id": "723a787f",
   "metadata": {},
   "outputs": [
    {
     "data": {
      "text/plain": [
       "[19, 19, 19, 20, 22, 24, 24, 24, 25, 25, 26, 26]"
      ]
     },
     "execution_count": 98,
     "metadata": {},
     "output_type": "execute_result"
    }
   ],
   "source": [
    "ages"
   ]
  },
  {
   "cell_type": "code",
   "execution_count": 99,
   "id": "51d01b31",
   "metadata": {},
   "outputs": [
    {
     "data": {
      "text/plain": [
       "12"
      ]
     },
     "execution_count": 99,
     "metadata": {},
     "output_type": "execute_result"
    }
   ],
   "source": [
    "n=len(ages)\n",
    "n"
   ]
  },
  {
   "cell_type": "code",
   "execution_count": 101,
   "id": "d12548b9",
   "metadata": {},
   "outputs": [
    {
     "data": {
      "text/plain": [
       "6.0"
      ]
     },
     "execution_count": 101,
     "metadata": {},
     "output_type": "execute_result"
    }
   ],
   "source": [
    "median_ages=len(ages)/2\n",
    "median_ages"
   ]
  },
  {
   "cell_type": "code",
   "execution_count": 102,
   "id": "6192a535",
   "metadata": {},
   "outputs": [
    {
     "data": {
      "text/plain": [
       "24"
      ]
     },
     "execution_count": 102,
     "metadata": {},
     "output_type": "execute_result"
    }
   ],
   "source": [
    "median_ages=int(median_ages)\n",
    "x=ages[median_ages]\n",
    "x"
   ]
  },
  {
   "cell_type": "code",
   "execution_count": 35,
   "id": "aba4bf8b",
   "metadata": {},
   "outputs": [
    {
     "name": "stdout",
     "output_type": "stream",
     "text": [
      "318\n"
     ]
    }
   ],
   "source": [
    "#Sum of numbers in the list\n",
    "sum=0\n",
    "for i in ages:\n",
    "    sum=sum+i\n",
    "print(sum)"
   ]
  },
  {
   "cell_type": "code",
   "execution_count": 37,
   "id": "9db00d44",
   "metadata": {},
   "outputs": [
    {
     "data": {
      "text/plain": [
       "7"
      ]
     },
     "execution_count": 37,
     "metadata": {},
     "output_type": "execute_result"
    }
   ],
   "source": [
    "#Range of the list\n",
    "range=max_ages-min_ages\n",
    "range"
   ]
  },
  {
   "cell_type": "markdown",
   "id": "b651fd4c",
   "metadata": {},
   "source": [
    "Question 2"
   ]
  },
  {
   "cell_type": "code",
   "execution_count": 103,
   "id": "0e6d3b66",
   "metadata": {
    "scrolled": true
   },
   "outputs": [
    {
     "data": {
      "text/plain": [
       "{}"
      ]
     },
     "execution_count": 103,
     "metadata": {},
     "output_type": "execute_result"
    }
   ],
   "source": [
    "#Creating a empty dictionary named dog\n",
    "dog={}\n",
    "dog"
   ]
  },
  {
   "cell_type": "code",
   "execution_count": 41,
   "id": "37b312b8",
   "metadata": {},
   "outputs": [],
   "source": [
    "#Adding name,color, breed, legs, age to the dog dictionary.\n",
    "dog={'name':\"Scooby\",'breed':\"lab\",'legs':4,'age':6}"
   ]
  },
  {
   "cell_type": "code",
   "execution_count": 42,
   "id": "3b9b959d",
   "metadata": {},
   "outputs": [
    {
     "data": {
      "text/plain": [
       "{'name': 'Scooby', 'breed': 'lab', 'legs': 4, 'age': 6}"
      ]
     },
     "execution_count": 42,
     "metadata": {},
     "output_type": "execute_result"
    }
   ],
   "source": [
    "dog"
   ]
  },
  {
   "cell_type": "code",
   "execution_count": 50,
   "id": "97219345",
   "metadata": {},
   "outputs": [],
   "source": [
    "\"\"\"Creating a student dictionary and add first_name, last_name, gender, \n",
    "age, marital status, skills, country, city and address as keys for the\n",
    "dictionary.\"\"\"\n",
    "student={\n",
    "    'first_name':\"Venkata Sai Varun\",\n",
    "    'last_name':\"Mooraboina\",\n",
    "    'gender':\"Male\",\n",
    "    'age':20,\n",
    "    'marital status':\"Single\",\n",
    "    'skills':['Professional Cricketer'],\n",
    "    'country':\"India\",\n",
    "    'city':'Hyderabad',\n",
    "    'address':'H.no 2-8-180,L.B Nagar'\n",
    "}"
   ]
  },
  {
   "cell_type": "code",
   "execution_count": 51,
   "id": "5861ba68",
   "metadata": {},
   "outputs": [
    {
     "data": {
      "text/plain": [
       "{'first_name': 'Venkata Sai Varun',\n",
       " 'last_name': 'Mooraboina',\n",
       " 'gender': 'Male',\n",
       " 'age': 20,\n",
       " 'marital status': 'Single',\n",
       " 'skills': ['Professional Cricketer'],\n",
       " 'country': 'India',\n",
       " 'city': 'Hyderabad',\n",
       " 'address': 'H.no 2-8-180,L.B Nagar'}"
      ]
     },
     "execution_count": 51,
     "metadata": {},
     "output_type": "execute_result"
    }
   ],
   "source": [
    "student"
   ]
  },
  {
   "cell_type": "code",
   "execution_count": 52,
   "id": "b7b44b8f",
   "metadata": {},
   "outputs": [
    {
     "data": {
      "text/plain": [
       "9"
      ]
     },
     "execution_count": 52,
     "metadata": {},
     "output_type": "execute_result"
    }
   ],
   "source": [
    "#Geting the length of the student dictionary\n",
    "len(student)"
   ]
  },
  {
   "cell_type": "code",
   "execution_count": 53,
   "id": "4046be91",
   "metadata": {},
   "outputs": [
    {
     "data": {
      "text/plain": [
       "dict_keys(['first_name', 'last_name', 'gender', 'age', 'marital status', 'skills', 'country', 'city', 'address'])"
      ]
     },
     "execution_count": 53,
     "metadata": {},
     "output_type": "execute_result"
    }
   ],
   "source": [
    "#Geting the value of skills \n",
    "student.keys()"
   ]
  },
  {
   "cell_type": "code",
   "execution_count": 54,
   "id": "15189e6c",
   "metadata": {},
   "outputs": [
    {
     "data": {
      "text/plain": [
       "['Professional Cricketer']"
      ]
     },
     "execution_count": 54,
     "metadata": {},
     "output_type": "execute_result"
    }
   ],
   "source": [
    "student['skills']"
   ]
  },
  {
   "cell_type": "code",
   "execution_count": 67,
   "id": "2162c72f",
   "metadata": {},
   "outputs": [],
   "source": [
    "#Modifying the skills values by adding one or two skills\n",
    "student['skills'].append(\"Programmer\")"
   ]
  },
  {
   "cell_type": "code",
   "execution_count": 70,
   "id": "6a6134bd",
   "metadata": {},
   "outputs": [],
   "source": [
    "student['skills'].append(\"pc gamer\")"
   ]
  },
  {
   "cell_type": "code",
   "execution_count": 71,
   "id": "fb0b1231",
   "metadata": {},
   "outputs": [
    {
     "data": {
      "text/plain": [
       "['Professional Cricketer', 'pc gamer']"
      ]
     },
     "execution_count": 71,
     "metadata": {},
     "output_type": "execute_result"
    }
   ],
   "source": [
    "student['skills']"
   ]
  },
  {
   "cell_type": "code",
   "execution_count": 77,
   "id": "387addf9",
   "metadata": {
    "scrolled": true
   },
   "outputs": [
    {
     "data": {
      "text/plain": [
       "['Venkata Sai Varun',\n",
       " 'Mooraboina',\n",
       " 'Male',\n",
       " 20,\n",
       " 'Single',\n",
       " ['Professional Cricketer', 'pc gamer'],\n",
       " 'India',\n",
       " 'Hyderabad',\n",
       " 'H.no 2-8-180,L.B Nagar']"
      ]
     },
     "execution_count": 77,
     "metadata": {},
     "output_type": "execute_result"
    }
   ],
   "source": [
    "#Getting the dictionary values as a list\n",
    "val=[]\n",
    "for i in student:\n",
    "    val.append(student[i])\n",
    "val\n",
    "    "
   ]
  },
  {
   "cell_type": "code",
   "execution_count": 79,
   "id": "9880ecd9",
   "metadata": {},
   "outputs": [
    {
     "data": {
      "text/plain": [
       "[dict_keys(['first_name', 'last_name', 'gender', 'age', 'marital status', 'skills', 'country', 'city', 'address'])]"
      ]
     },
     "execution_count": 79,
     "metadata": {},
     "output_type": "execute_result"
    }
   ],
   "source": [
    "# Getting the dictionary keys as a list\n",
    "key=[]\n",
    "key.append(student.keys())\n",
    "key"
   ]
  },
  {
   "cell_type": "markdown",
   "id": "e7e6dfef",
   "metadata": {},
   "source": [
    "Question 8"
   ]
  },
  {
   "cell_type": "code",
   "execution_count": 6,
   "id": "1120b9d3",
   "metadata": {
    "scrolled": true
   },
   "outputs": [
    {
     "name": "stdout",
     "output_type": "stream",
     "text": [
      "The are of a circle with radius 10 is 314.0 meters square.\n"
     ]
    }
   ],
   "source": [
    "#Using the string formatting method\n",
    "radius=10\n",
    "area=3.14*radius ** 2\n",
    "print(f'The are of a circle with radius {radius} is {area} meters square.')"
   ]
  },
  {
   "cell_type": "code",
   "execution_count": null,
   "id": "b91502c9",
   "metadata": {},
   "outputs": [],
   "source": []
  },
  {
   "cell_type": "markdown",
   "id": "0c998aeb",
   "metadata": {},
   "source": [
    "Question 6"
   ]
  },
  {
   "cell_type": "code",
   "execution_count": 106,
   "id": "4d0d47ae",
   "metadata": {},
   "outputs": [
    {
     "name": "stdout",
     "output_type": "stream",
     "text": [
      "{'teach', 'a', 'love', 'I', 'am', 'and', 'to', 'people', 'teacher', 'inspire'}\n"
     ]
    },
    {
     "data": {
      "text/plain": [
       "10"
      ]
     },
     "execution_count": 106,
     "metadata": {},
     "output_type": "execute_result"
    }
   ],
   "source": [
    "'''How many unique words have been used in the sentence? Use the split \n",
    "methods and set to get the unique words.'''\n",
    "a=\"I am a teacher and I love to inspire and teach people\"\n",
    "asplit=\"\"\n",
    "asp=a.split()\n",
    "asp=set(asp)\n",
    "print(asp)\n",
    "len(asp)"
   ]
  },
  {
   "cell_type": "markdown",
   "id": "144169cc",
   "metadata": {},
   "source": [
    "Question 9"
   ]
  },
  {
   "cell_type": "code",
   "execution_count": 105,
   "id": "4dc2b7dd",
   "metadata": {},
   "outputs": [
    {
     "name": "stdout",
     "output_type": "stream",
     "text": [
      "Enter number of students4\n",
      "Enter weights in lbs:150\n",
      "Enter weights in lbs:155\n",
      "Enter weights in lbs:145\n",
      "Enter weights in lbs:148\n"
     ]
    },
    {
     "data": {
      "text/plain": [
       "[68.03893641534596, 70.30690096252415, 65.77097186816776, 67.13175059647469]"
      ]
     },
     "execution_count": 105,
     "metadata": {},
     "output_type": "execute_result"
    }
   ],
   "source": [
    "'''Write a program, which reads weights (lbs.) of N students into a list and\n",
    "convert these weights to kilograms in a separate list using Loop. N: No \n",
    "of students (Read input from user)'''\n",
    "\n",
    "L1=[]\n",
    "L2=[]\n",
    "lbs=[]\n",
    "n=int(input(\"Enter number of students\"))\n",
    "for i in range(n):\n",
    "    L1=float(input(\"Enter weights in lbs:\"))\n",
    "    lbs.append(L1)\n",
    "    L2.append(L1/2.20462)\n",
    "L2"
   ]
  },
  {
   "cell_type": "markdown",
   "id": "8590032a",
   "metadata": {},
   "source": [
    "Question 5"
   ]
  },
  {
   "cell_type": "code",
   "execution_count": 5,
   "id": "1b20c1a6",
   "metadata": {},
   "outputs": [
    {
     "name": "stdout",
     "output_type": "stream",
     "text": [
      "Enter the radius:30\n",
      "Area of a Circle 2826.0\n",
      "Circumference of a circle: 188.4\n"
     ]
    }
   ],
   "source": [
    "'''Calculating the area of a circle and circumference of a circle and  \n",
    "taking the radius as user input.'''\n",
    "rad=int(input(\"Enter the radius:\"))\n",
    "_area_of_circle_= 3.14 * rad **2\n",
    "_circum_of_circle_= 2 * 3.14 * rad\n",
    "print(\"Area of a Circle\",_area_of_circle_)\n",
    "print(\"Circumference of a circle:\",_circum_of_circle_)"
   ]
  },
  {
   "cell_type": "code",
   "execution_count": null,
   "id": "125b290c",
   "metadata": {},
   "outputs": [],
   "source": []
  },
  {
   "cell_type": "markdown",
   "id": "aca6957e",
   "metadata": {},
   "source": [
    "#Qustion 3"
   ]
  },
  {
   "cell_type": "code",
   "execution_count": 11,
   "id": "aa09ca53",
   "metadata": {},
   "outputs": [
    {
     "name": "stdout",
     "output_type": "stream",
     "text": [
      "My siblings: ['Sai Vardhan', 'Thanvitha', 'Jayeetha']\n",
      "Number of siblings: 3\n",
      "My family members: ['Sai Vardhan', 'Thanvitha', 'Jayeetha', 'Srinivas', 'Padmaja']\n"
     ]
    }
   ],
   "source": [
    "#Creating a tuple for siblings and adding it to the family_members\n",
    "brothers=(\"Sai Vardhan\",)\n",
    "sisters=(\"Thanvitha\",\"Jayeetha\")\n",
    "siblings=list(brothers)+list(sisters)\n",
    "print(\"My siblings:\",siblings)\n",
    "print(\"Number of siblings:\",len(siblings))\n",
    "tuple(siblings)\n",
    "siblings\n",
    "father=['Srinivas']\n",
    "mother=[\"Padmaja\"]\n",
    "siblings=siblings+father+mother\n",
    "family_members=siblings\n",
    "print(\"My family members:\",family_members)"
   ]
  },
  {
   "cell_type": "markdown",
   "id": "e207e5c8",
   "metadata": {},
   "source": [
    "Question 4"
   ]
  },
  {
   "cell_type": "code",
   "execution_count": 60,
   "id": "5aa5259b",
   "metadata": {},
   "outputs": [
    {
     "data": {
      "text/plain": [
       "7"
      ]
     },
     "execution_count": 60,
     "metadata": {},
     "output_type": "execute_result"
    }
   ],
   "source": [
    "#Finding the length of it_companies\n",
    "it_companies = {'Facebook', 'Google', 'Microsoft', 'Apple', 'IBM', 'Oracle', 'Amazon'}\n",
    "A = {19, 22, 24, 20, 25, 26}\n",
    "B = {19, 22, 20, 25, 26, 24, 28, 27}\n",
    "age = [22, 19, 24, 25, 26, 24, 25, 24]\n",
    "len(it_companies)\n"
   ]
  },
  {
   "cell_type": "code",
   "execution_count": 61,
   "id": "00fc1ca6",
   "metadata": {},
   "outputs": [
    {
     "data": {
      "text/plain": [
       "{'Amazon',\n",
       " 'Apple',\n",
       " 'Facebook',\n",
       " 'Google',\n",
       " 'IBM',\n",
       " 'Microsoft',\n",
       " 'Oracle',\n",
       " 'Twitter'}"
      ]
     },
     "execution_count": 61,
     "metadata": {},
     "output_type": "execute_result"
    }
   ],
   "source": [
    "#Adding \"Twitter\" to it_companies\n",
    "it_companies.add('Twitter')\n",
    "it_companies"
   ]
  },
  {
   "cell_type": "code",
   "execution_count": 62,
   "id": "a7b21dc8",
   "metadata": {},
   "outputs": [
    {
     "data": {
      "text/plain": [
       "{'Amazon',\n",
       " 'Apple',\n",
       " 'Capgemini',\n",
       " 'Facebook',\n",
       " 'Google',\n",
       " 'IBM',\n",
       " 'Microsoft',\n",
       " 'Oracle',\n",
       " 'TCS',\n",
       " 'Twitter'}"
      ]
     },
     "execution_count": 62,
     "metadata": {},
     "output_type": "execute_result"
    }
   ],
   "source": [
    "#Adding more it companies\n",
    "more_companies={\"Capgemini\",\"TCS\"}\n",
    "updated_companies=more_companies.union(it_companies)\n",
    "updated_companies"
   ]
  },
  {
   "cell_type": "code",
   "execution_count": 63,
   "id": "cbbc591b",
   "metadata": {},
   "outputs": [
    {
     "data": {
      "text/plain": [
       "{'Apple',\n",
       " 'Capgemini',\n",
       " 'Facebook',\n",
       " 'Google',\n",
       " 'IBM',\n",
       " 'Microsoft',\n",
       " 'Oracle',\n",
       " 'TCS',\n",
       " 'Twitter'}"
      ]
     },
     "execution_count": 63,
     "metadata": {},
     "output_type": "execute_result"
    }
   ],
   "source": [
    "#Removing one of the companies from the set it_companies\n",
    "updated_companies.remove(\"Amazon\")\n",
    "updated_companies"
   ]
  },
  {
   "cell_type": "code",
   "execution_count": 64,
   "id": "1803c694",
   "metadata": {},
   "outputs": [
    {
     "name": "stdout",
     "output_type": "stream",
     "text": [
      "After Joining A and B: {19, 20, 22, 24, 25, 26, 27, 28}\n"
     ]
    }
   ],
   "source": [
    "#Joining A and B\n",
    "join=A.union(B)\n",
    "print(\"After Joining A and B:\",join)\n"
   ]
  },
  {
   "cell_type": "code",
   "execution_count": 65,
   "id": "8b38edff",
   "metadata": {},
   "outputs": [
    {
     "name": "stdout",
     "output_type": "stream",
     "text": [
      "Intersection of A and B: {19, 20, 22, 24, 25, 26}\n"
     ]
    }
   ],
   "source": [
    "#Finding A intersection B\n",
    "intersect=A.intersection(B)\n",
    "print(\"Intersection of A and B:\",intersect)"
   ]
  },
  {
   "cell_type": "code",
   "execution_count": 66,
   "id": "9a9ab33c",
   "metadata": {},
   "outputs": [
    {
     "name": "stdout",
     "output_type": "stream",
     "text": [
      "True\n"
     ]
    }
   ],
   "source": [
    "#Is A subset of B\n",
    "print(A.issubset(B))"
   ]
  },
  {
   "cell_type": "code",
   "execution_count": 67,
   "id": "1b43ada3",
   "metadata": {
    "scrolled": true
   },
   "outputs": [
    {
     "name": "stdout",
     "output_type": "stream",
     "text": [
      "False\n"
     ]
    }
   ],
   "source": [
    "#Are A and B disjoint sets\n",
    "print(A.isdisjoint(B))"
   ]
  },
  {
   "cell_type": "code",
   "execution_count": 68,
   "id": "1f65fe07",
   "metadata": {},
   "outputs": [
    {
     "name": "stdout",
     "output_type": "stream",
     "text": [
      "{19, 20, 22, 24, 25, 26, 27, 28}\n",
      "{19, 20, 22, 24, 25, 26, 27, 28}\n"
     ]
    }
   ],
   "source": [
    "#Joining A with B and B with A\n",
    "print(A.union(B))\n",
    "print(B.union(A))"
   ]
  },
  {
   "cell_type": "code",
   "execution_count": 69,
   "id": "1d2f214a",
   "metadata": {},
   "outputs": [
    {
     "name": "stdout",
     "output_type": "stream",
     "text": [
      "The symmetric difference between A and B is: {27, 28}\n"
     ]
    }
   ],
   "source": [
    "#Symmetric Difference\n",
    "print(\"The symmetric difference between A and B is:\",A.symmetric_difference(B))"
   ]
  },
  {
   "cell_type": "code",
   "execution_count": 70,
   "id": "391f5f4d",
   "metadata": {},
   "outputs": [],
   "source": [
    "#Deleting all sets\n",
    "updated_companies.clear()\n",
    "A.clear()\n",
    "B.clear()"
   ]
  },
  {
   "cell_type": "code",
   "execution_count": 74,
   "id": "42676406",
   "metadata": {},
   "outputs": [
    {
     "name": "stdout",
     "output_type": "stream",
     "text": [
      "8\n"
     ]
    },
    {
     "data": {
      "text/plain": [
       "5"
      ]
     },
     "execution_count": 74,
     "metadata": {},
     "output_type": "execute_result"
    }
   ],
   "source": [
    "#Converting ages to set and comparing length for the list and the set\n",
    "print(len(age))\n",
    "Age=set(age)\n",
    "len(Age)"
   ]
  },
  {
   "cell_type": "code",
   "execution_count": null,
   "id": "6ef7cd4f",
   "metadata": {},
   "outputs": [],
   "source": []
  }
 ],
 "metadata": {
  "kernelspec": {
   "display_name": "Python 3 (ipykernel)",
   "language": "python",
   "name": "python3"
  },
  "language_info": {
   "codemirror_mode": {
    "name": "ipython",
    "version": 3
   },
   "file_extension": ".py",
   "mimetype": "text/x-python",
   "name": "python",
   "nbconvert_exporter": "python",
   "pygments_lexer": "ipython3",
   "version": "3.9.7"
  }
 },
 "nbformat": 4,
 "nbformat_minor": 5
}
